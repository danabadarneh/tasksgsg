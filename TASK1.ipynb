{
 "cells": [
  {
   "cell_type": "code",
   "execution_count": 60,
   "metadata": {},
   "outputs": [],
   "source": [
    "import csv\n",
    "import os"
   ]
  },
  {
   "cell_type": "markdown",
   "metadata": {},
   "source": [
    "#Reading the CSV in Python\n"
   ]
  },
  {
   "cell_type": "code",
   "execution_count": 1,
   "metadata": {},
   "outputs": [],
   "source": [
    "cs=r'C:\\Users\\ASUS\\Desktop\\GSG\\data.csv'"
   ]
  },
  {
   "cell_type": "code",
   "execution_count": 63,
   "metadata": {},
   "outputs": [
    {
     "name": "stdout",
     "output_type": "stream",
     "text": [
      "['missing', 'missing', 'missing', 'missing', 'missing', 'missing', 'missing', 'missing', 'missing', 'missing', 'missing', 'missing', 'missing', 'missing', 'missing']\n",
      "['missing', 'missing', 'missing', 'missing', 'missing', 'missing', 'missing', 'missing', 'missing', 'missing', 'missing', 'missing', 'missing', 'missing', 'missing']\n",
      "['missing', 'missing', 'missing', 'missing', 'missing', 'missing', 'missing', 'missing', 'missing', 'missing', 'missing', 'missing', 'missing', 'missing', 'missing']\n",
      "['missing', 'missing', 'missing', 'missing', 'missing', 'missing', 'missing', 'missing', 'missing', 'missing', 'missing', 'missing', 'missing', 'missing', 'missing']\n",
      "['missing', 'missing', 'missing', 'missing', 'missing', 'missing', 'missing', 'missing', 'missing', 'missing', 'missing', 'missing', 'missing', 'missing', 'missing']\n",
      "['num_critic_for_reviews', 'duration', 'DIRECTOR_facebook_likes', 'actor_3_facebook_likes', 'ACTOR_1_facebook_likes', 'gross', 'num_voted_users', 'Cast_Total_facebook_likes', 'facenumber_in_poster', 'num_user_for_reviews', 'budget', 'title_year', 'ACTOR_2_facebook_likes', 'imdb_score', 'title_year']\n",
      "['723', '178', '10', '855', '1000', '760505847', '886204', '4834', 'missing', '3054', '237000000', '2009', '936', '7.9', '2009']\n",
      "['302', 'missing', '563', '1000', '40000', '309404152', '471220', '48350', 'missing', '1238', '300000000', '2007', '5000', '7.1', 'missing']\n",
      "['602', '148', '20', '161', '11000', '200074175', '275868', '11700', '1', '994', '245000000', '2015', '393', '6.8', '2015']\n",
      "['813', 'missing', '22000', '23000', '27000', '448130642', '1144337', '106759', 'missing', '2701', '250000000', '2012', '23000', '8.5', 'missing']\n",
      "['462', '132', '\"475\"', '530', '640', '73058679', '212204', '1873', '1', '738', '263700000', '2012', '632', '6.6', 'missing']\n",
      "['392', '156', '23', '4000', '24000', '336530303', '383056', '46055', 'missing', '1902', '258000000', '2007', '11000', '6.2', '2007']\n",
      "['324', 'missing', '15', '284', '799', '200807262', '294810', 'missing', '1', '387', '260000000', '2010', '553', '7.8', 'missing']\n",
      "['635', '141', '10', '19000', '26000', '458991599', '462669', '92000', '4', '1117', '250000000', '2015', '21000', '7.5', 'missing']\n",
      "['635', '141', '10', '19000', '26000', '458991599', '462669', '92000', '4', '1117', '250000000', '2015', '21000', '7.5', '2015']\n",
      "['375', '153', '282', '10000', '25000', '301956980', '321795', '58753', '3', '973', '250000000', '2009', '11000', '7.5', 'missing']\n",
      "['673', '183', 'missing', '2000', '15000', '330249062', 'missing', '24450', 'missing', '3018', '250000000', '2016', 'missing', '6.9', '2016']\n",
      "['434', '169', 'missing', '903', '18000', '200069408', '240396', 'missing', '2', '2367', '209000000', '2006', '10000', '6.1', 'missing']\n",
      "['403', '106', '395', '393', '451', '168368427', '330784', '2023', '1', '1243', '200000000', '2008', '412', '6.7', '2008']\n",
      "['313', '151', '563', '1000', '40000', '423032628', '522040', '48486', '2', '1832', '225000000', '2006', '5000', '7.3', '2008']\n",
      "['missing', 'missing', 'missing', 'missing', 'missing', 'missing', 'missing', 'missing', 'missing', 'missing', 'missing', 'missing', 'missing', 'missing', 'missing']\n"
     ]
    }
   ],
   "source": [
    "with open(r'C:\\Users\\ASUS\\Desktop\\GSG\\data.csv', \"r\") as csvfile:\n",
    "    reader_variable = csv.reader(csvfile, delimiter=\",\")\n",
    "    for row in reader_variable:\n",
    "        print(row)\n"
   ]
  },
  {
   "cell_type": "markdown",
   "metadata": {},
   "source": [
    "#If you find an empty data cell, replace it with the word missing"
   ]
  },
  {
   "cell_type": "code",
   "execution_count": 54,
   "metadata": {},
   "outputs": [],
   "source": [
    "\n",
    "input_file_path = r'C:\\Users\\ASUS\\Desktop\\GSG\\data.csv'\n",
    "temp_file_path = input_file_path + '.tmp'\n",
    "\n",
    "with open(input_file_path, mode='r', newline='') as infile, open(temp_file_path, mode='w', newline='') as outfile:\n",
    "    reader = csv.reader(infile)\n",
    "    writer = csv.writer(outfile)\n",
    "    \n",
    "    for row in reader:\n",
    "        # Replace empty cells with 'missing'\n",
    "        modified_row = ['missing' if not cell.strip() else cell for cell in row]\n",
    "        writer.writerow(modified_row)\n",
    "\n",
    "# Step 2: Replace the original file with the temporary file\n",
    "os.remove(input_file_path)  # Remove the original file\n",
    "os.rename(temp_file_path, input_file_path)  # Rename the temporary file to the original file name\n"
   ]
  },
  {
   "cell_type": "markdown",
   "metadata": {},
   "source": [
    "#delete a column without data"
   ]
  },
  {
   "cell_type": "code",
   "execution_count": 62,
   "metadata": {},
   "outputs": [],
   "source": [
    "empty_columns = set()\n",
    "with open(input_file_path, mode='r', newline='') as csvfile:\n",
    "    reader = csv.reader(csvfile)\n",
    "    headers = next(reader)  # Assuming the first row is the header\n",
    "    column_data_counts = [0] * len(headers)  # Initialize counts for each column\n",
    "    \n",
    "    for row in reader:\n",
    "        for i, cell in enumerate(row):\n",
    "            if cell.strip():  # Check if cell is not empty\n",
    "                column_data_counts[i] += 1\n",
    "\n",
    "    # Identify columns that are completely empty\n",
    "    empty_columns = {i for i, count in enumerate(column_data_counts) if count == 0}\n",
    "\n",
    "# Now, rewrite the file without the empty columns\n",
    "with open(input_file_path, mode='r', newline='') as infile, open(output_file_path, mode='w', newline='') as outfile:\n",
    "    reader = csv.reader(infile)\n",
    "    writer = csv.writer(outfile)\n",
    "    \n",
    "    for row in reader:\n",
    "        # Exclude the cells from empty columns\n",
    "        new_row = [cell for i, cell in enumerate(row) if i not in empty_columns]\n",
    "        writer.writerow(new_row)"
   ]
  },
  {
   "cell_type": "markdown",
   "metadata": {},
   "source": [
    "#delete a row without data"
   ]
  },
  {
   "cell_type": "code",
   "execution_count": 57,
   "metadata": {},
   "outputs": [],
   "source": [
    "\n",
    "input_file_path = 'C:/Users/ASUS/Desktop/GSG/data.csv'\n",
    "temp_file_path = 'C:/Users/ASUS/Desktop/GSG/temp_data.csv'\n",
    "\n",
    "# Step 1: Read from the original file and write to a temporary file, skipping empty rows\n",
    "with open(input_file_path, mode='r', newline='') as infile, open(temp_file_path, mode='w', newline='') as outfile:\n",
    "    reader = csv.reader(infile)\n",
    "    writer = csv.writer(outfile)\n",
    "    \n",
    "    for row in reader:\n",
    "        if any(cell.strip() for cell in row):  # Check if the row is not completely empty\n",
    "            writer.writerow(row)\n",
    "\n",
    "# Step 2: Replace the original file with the temporary file\n",
    "os.remove(input_file_path)  # Delete the original file\n",
    "os.rename(temp_file_path, input_file_path)  # Rename the temporary file to the original file name\n"
   ]
  },
  {
   "cell_type": "code",
   "execution_count": 64,
   "metadata": {},
   "outputs": [
    {
     "name": "stdout",
     "output_type": "stream",
     "text": [
      "Headers: ['missing', 'missing', 'missing', 'missing', 'missing', 'missing', 'missing', 'missing', 'missing', 'missing', 'missing', 'missing', 'missing', 'missing', 'missing']\n",
      "['missing', 'missing', 'missing', 'missing', 'missing', 'missing', 'missing', 'missing', 'missing', 'missing', 'missing', 'missing', 'missing', 'missing', 'missing']\n",
      "['missing', 'missing', 'missing', 'missing', 'missing', 'missing', 'missing', 'missing', 'missing', 'missing', 'missing', 'missing', 'missing', 'missing', 'missing']\n",
      "['missing', 'missing', 'missing', 'missing', 'missing', 'missing', 'missing', 'missing', 'missing', 'missing', 'missing', 'missing', 'missing', 'missing', 'missing']\n",
      "['missing', 'missing', 'missing', 'missing', 'missing', 'missing', 'missing', 'missing', 'missing', 'missing', 'missing', 'missing', 'missing', 'missing', 'missing']\n",
      "['num_critic_for_reviews', 'duration', 'DIRECTOR_facebook_likes', 'actor_3_facebook_likes', 'ACTOR_1_facebook_likes', 'gross', 'num_voted_users', 'Cast_Total_facebook_likes', 'facenumber_in_poster', 'num_user_for_reviews', 'budget', 'title_year', 'ACTOR_2_facebook_likes', 'imdb_score', 'title_year']\n",
      "['723', '178', '10', '855', '1000', '760505847', '886204', '4834', 'missing', '3054', '237000000', '2009', '936', '7.9', '2009']\n",
      "['302', 'missing', '563', '1000', '40000', '309404152', '471220', '48350', 'missing', '1238', '300000000', '2007', '5000', '7.1', 'missing']\n",
      "['602', '148', '20', '161', '11000', '200074175', '275868', '11700', '1', '994', '245000000', '2015', '393', '6.8', '2015']\n",
      "['813', 'missing', '22000', '23000', '27000', '448130642', '1144337', '106759', 'missing', '2701', '250000000', '2012', '23000', '8.5', 'missing']\n",
      "['462', '132', '\"475\"', '530', '640', '73058679', '212204', '1873', '1', '738', '263700000', '2012', '632', '6.6', 'missing']\n",
      "['392', '156', '23', '4000', '24000', '336530303', '383056', '46055', 'missing', '1902', '258000000', '2007', '11000', '6.2', '2007']\n",
      "['324', 'missing', '15', '284', '799', '200807262', '294810', 'missing', '1', '387', '260000000', '2010', '553', '7.8', 'missing']\n",
      "['635', '141', '10', '19000', '26000', '458991599', '462669', '92000', '4', '1117', '250000000', '2015', '21000', '7.5', 'missing']\n",
      "['635', '141', '10', '19000', '26000', '458991599', '462669', '92000', '4', '1117', '250000000', '2015', '21000', '7.5', '2015']\n",
      "['375', '153', '282', '10000', '25000', '301956980', '321795', '58753', '3', '973', '250000000', '2009', '11000', '7.5', 'missing']\n",
      "['673', '183', 'missing', '2000', '15000', '330249062', 'missing', '24450', 'missing', '3018', '250000000', '2016', 'missing', '6.9', '2016']\n",
      "['434', '169', 'missing', '903', '18000', '200069408', '240396', 'missing', '2', '2367', '209000000', '2006', '10000', '6.1', 'missing']\n",
      "['403', '106', '395', '393', '451', '168368427', '330784', '2023', '1', '1243', '200000000', '2008', '412', '6.7', '2008']\n",
      "['313', '151', '563', '1000', '40000', '423032628', '522040', '48486', '2', '1832', '225000000', '2006', '5000', '7.3', '2008']\n",
      "['missing', 'missing', 'missing', 'missing', 'missing', 'missing', 'missing', 'missing', 'missing', 'missing', 'missing', 'missing', 'missing', 'missing', 'missing']\n"
     ]
    }
   ],
   "source": [
    "\n",
    "output_file_path = 'C:/Users/ASUS/Desktop/GSG/data_modified.csv'\n",
    "\n",
    "with open(output_file_path, mode='r', newline='') as csvfile:\n",
    "    reader = csv.reader(csvfile)\n",
    "    \n",
    "    headers = next(reader)\n",
    "    print('Headers:', headers)\n",
    "    \n",
    "    for row in reader:\n",
    "        print(row)\n"
   ]
  }
 ],
 "metadata": {
  "kernelspec": {
   "display_name": "Python 3",
   "language": "python",
   "name": "python3"
  },
  "language_info": {
   "codemirror_mode": {
    "name": "ipython",
    "version": 3
   },
   "file_extension": ".py",
   "mimetype": "text/x-python",
   "name": "python",
   "nbconvert_exporter": "python",
   "pygments_lexer": "ipython3",
   "version": "3.10.10"
  }
 },
 "nbformat": 4,
 "nbformat_minor": 2
}
